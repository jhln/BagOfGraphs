{
 "cells": [
  {
   "cell_type": "code",
   "execution_count": null,
   "id": "b2ae438a",
   "metadata": {},
   "outputs": [],
   "source": [
    "import stanza\n",
    "import graphviz\n",
    "import os\n",
    "import json\n",
    "\n",
    "import networkx as nx\n",
    "import pandas as pd\n",
    "import numpy as np\n",
    "\n",
    "\n",
    "from sklearn.metrics import f1_score, precision_score, recall_score, confusion_matrix\n",
    "from potato.dataset.dataset import Dataset\n",
    "from potato.models.trainer import GraphTrainer\n",
    "from tuw_nlp.grammar.text_to_4lang import TextTo4lang\n",
    "from tuw_nlp.graph.fourlang import FourLang\n",
    "from tuw_nlp.text.pipeline import CachedStanzaPipeline, CustomStanzaPipeline\n",
    "from graphviz import Source"
   ]
  },
  {
   "cell_type": "code",
   "execution_count": null,
   "id": "c8d036dd",
   "metadata": {},
   "outputs": [],
   "source": [
    "config = {\n",
    "    \"lang\": \"en\",\n",
    "    \"depth\": 0,\n",
    "    \"substitute\": False,\n",
    "    \"nr of samples\": 1000,\n",
    "}\n",
    "data = {\n",
    " \"dir\": \"data\"\n",
    "}"
   ]
  },
  {
   "cell_type": "code",
   "execution_count": null,
   "id": "86cbfeca",
   "metadata": {},
   "outputs": [],
   "source": [
    "GOLD_ATTRIBUTES = \"gold_attributes\"\n",
    "GOLD = \"labels_gold\"\n",
    "ANNOTATED_ATTRIBUTES = \"annotated_attributes\"\n",
    "\n",
    "def create_input(directory, attribute):\n",
    "    sentence = []\n",
    "    label = []\n",
    "    for filename in os.listdir(directory):\n",
    "        with open(os.path.join(directory, filename), \"rt\") as f:\n",
    "            doc = json.load(f)\n",
    "            for sen in doc[\"sens\"].values():\n",
    "                if doc[GOLD]:\n",
    "                    lab = attribute in sen[GOLD_ATTRIBUTES]\n",
    "                else:\n",
    "                    lab = attribute in sen[ANNOTATED_ATTRIBUTES]\n",
    "                sentence.append(sen[\"text\"])\n",
    "                label.append(lab)\n",
    "    return pd.DataFrame(data=list(zip(sentence,label)),columns=[\"Text\",\"Label\"])\n",
    "\n"
   ]
  },
  {
   "cell_type": "code",
   "execution_count": null,
   "id": "143c6e68",
   "metadata": {},
   "outputs": [],
   "source": [
    "#Load in Data for specific feature\n",
    "train_data = create_input(os.path.join(data[\"dir\"], \"train\"), \"Planzeichen\")\n",
    "\n",
    "#Save the labels for later. In this case its just 0,1 conversion for Planzeichen\n",
    "labels = train_data.Label*1\n",
    "\n",
    "train_data = train_data.drop([6020]) # Remove if bug is fixed\n",
    "\n",
    "train_data"
   ]
  },
  {
   "cell_type": "code",
   "execution_count": null,
   "id": "f09d2b42",
   "metadata": {},
   "outputs": [],
   "source": [
    "sentences = []\n",
    "\n",
    "for index, row in train_data.iterrows():\n",
    "    sentences.append((row[\"Text\"], str(row[\"Label\"])))\n",
    "    \n",
    "sentences"
   ]
  },
  {
   "cell_type": "code",
   "execution_count": null,
   "id": "5f543fbd",
   "metadata": {
    "scrolled": true
   },
   "outputs": [],
   "source": [
    "dataset = Dataset(sentences, label_vocab={str(False): 0, str(True): 1})\n",
    "dataset.set_graphs(dataset.parse_graphs(graph_format=\"fourlang\"))\n",
    "dataset"
   ]
  },
  {
   "cell_type": "code",
   "execution_count": null,
   "id": "f57cec15",
   "metadata": {
    "scrolled": true
   },
   "outputs": [],
   "source": [
    "df = dataset.to_dataframe()\n",
    "df"
   ]
  },
  {
   "cell_type": "code",
   "execution_count": null,
   "id": "fbd81bfb",
   "metadata": {},
   "outputs": [],
   "source": [
    "trainer = GraphTrainer(df)\n",
    "#extract features\n",
    "features = trainer.prepare_and_train()\n"
   ]
  },
  {
   "cell_type": "code",
   "execution_count": null,
   "id": "344429fc",
   "metadata": {},
   "outputs": [],
   "source": [
    "features"
   ]
  },
  {
   "cell_type": "code",
   "execution_count": null,
   "id": "a7b899a7",
   "metadata": {},
   "outputs": [],
   "source": [
    "from potato.graph_extractor.extract import FeatureEvaluator\n",
    "evaluator = FeatureEvaluator()"
   ]
  },
  {
   "cell_type": "code",
   "execution_count": null,
   "id": "d2f140b2",
   "metadata": {},
   "outputs": [],
   "source": [
    "result = evaluator.match_features(df, features[\"True\"])\n",
    "result"
   ]
  },
  {
   "cell_type": "code",
   "execution_count": null,
   "id": "dc1d0437",
   "metadata": {},
   "outputs": [],
   "source": [
    "result[result[\"Predicted label\"] != \"True\"] = \"False\"\n",
    "result"
   ]
  },
  {
   "cell_type": "code",
   "execution_count": null,
   "id": "84378418",
   "metadata": {},
   "outputs": [],
   "source": [
    "precision = precision_score(result[\"Predicted label\"].apply(bool), train_data[\"Label\"])\n",
    "recall = recall_score(result[\"Predicted label\"].apply(bool), train_data[\"Label\"])\n",
    "f1 = f1_score(result[\"Predicted label\"].apply(bool), train_data[\"Label\"])\n",
    "\n",
    "tn, fp, fn, tp = confusion_matrix(result[\"Predicted label\"].apply(bool), train_data[\"Label\"]).ravel()\n",
    "print(f\"TP: {tp}, FP: {fp}, FN: {fn}, TN: {tn}\")\n",
    "print(f'Precision: {precision:5.2f}, Recall: {recall:5.2f}, F1: {f1:5.2f}')"
   ]
  },
  {
   "cell_type": "code",
   "execution_count": null,
   "id": "f695290c",
   "metadata": {},
   "outputs": [],
   "source": []
  }
 ],
 "metadata": {
  "kernelspec": {
   "display_name": "Python 3 (ipykernel)",
   "language": "python",
   "name": "python3"
  },
  "language_info": {
   "codemirror_mode": {
    "name": "ipython",
    "version": 3
   },
   "file_extension": ".py",
   "mimetype": "text/x-python",
   "name": "python",
   "nbconvert_exporter": "python",
   "pygments_lexer": "ipython3",
   "version": "3.9.7"
  }
 },
 "nbformat": 4,
 "nbformat_minor": 5
}
