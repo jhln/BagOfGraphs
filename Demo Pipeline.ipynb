{
 "cells": [
  {
   "cell_type": "code",
   "execution_count": 1,
   "id": "b2ae438a",
   "metadata": {},
   "outputs": [],
   "source": [
    "import stanza\n",
    "import graphviz\n",
    "\n",
    "import networkx as nx\n",
    "\n",
    "from tuw_nlp.grammar.text_to_4lang import TextTo4lang\n",
    "from tuw_nlp.graph.fourlang import FourLang\n",
    "from tuw_nlp.text.pipeline import CachedStanzaPipeline, CustomStanzaPipeline\n",
    "from graphviz import Source"
   ]
  },
  {
   "cell_type": "code",
   "execution_count": 19,
   "id": "c8d036dd",
   "metadata": {},
   "outputs": [],
   "source": [
    "config = {\n",
    "    \"lang\": \"en\",\n",
    "    \"depth\": 0,\n",
    "    \"substitute\": False   \n",
    "}\n",
    "data = {\n",
    " \"sentence\": \"1\",   \n",
    "}"
   ]
  },
  {
   "cell_type": "code",
   "execution_count": 3,
   "id": "40fa9f6e",
   "metadata": {},
   "outputs": [
    {
     "name": "stderr",
     "output_type": "stream",
     "text": [
      "2021-11-08 14:45:25 WARNING: Can not find mwt: default from official model list. Ignoring it.\n",
      "2021-11-08 14:45:25 INFO: Loading these models for language: en (English):\n",
      "=======================\n",
      "| Processor | Package |\n",
      "-----------------------\n",
      "| tokenize  | ewt     |\n",
      "| pos       | ewt     |\n",
      "| lemma     | ewt     |\n",
      "| depparse  | ewt     |\n",
      "=======================\n",
      "\n",
      "2021-11-08 14:45:25 INFO: Use device: gpu\n",
      "2021-11-08 14:45:25 INFO: Loading: tokenize\n",
      "2021-11-08 14:45:26 INFO: Loading: pos\n",
      "2021-11-08 14:45:26 INFO: Loading: lemma\n",
      "2021-11-08 14:45:26 INFO: Loading: depparse\n",
      "2021-11-08 14:45:27 INFO: Done loading processors!\n",
      "WARNING:root:creating new NLP cache in en_nlp_cache\n",
      "WARNING:root:loading cache from file: cache/UD_FL.json\n",
      "WARNING:root:loaded cache from cache/UD_FL.json with interpretations: ['fl', 'ud']\n",
      "2021-11-08 14:45:39 INFO: Loading these models for language: en (English):\n",
      "=========================\n",
      "| Processor | Package   |\n",
      "-------------------------\n",
      "| tokenize  | ewt       |\n",
      "| pos       | ewt       |\n",
      "| lemma     | ewt       |\n",
      "| depparse  | ewt       |\n",
      "| sentiment | sstplus   |\n",
      "| ner       | ontonotes |\n",
      "=========================\n",
      "\n",
      "INFO:stanza:Loading these models for language: en (English):\n",
      "=========================\n",
      "| Processor | Package   |\n",
      "-------------------------\n",
      "| tokenize  | ewt       |\n",
      "| pos       | ewt       |\n",
      "| lemma     | ewt       |\n",
      "| depparse  | ewt       |\n",
      "| sentiment | sstplus   |\n",
      "| ner       | ontonotes |\n",
      "=========================\n",
      "\n",
      "2021-11-08 14:45:39 INFO: Use device: gpu\n",
      "INFO:stanza:Use device: gpu\n",
      "2021-11-08 14:45:39 INFO: Loading: tokenize\n",
      "INFO:stanza:Loading: tokenize\n",
      "2021-11-08 14:45:39 INFO: Loading: pos\n",
      "INFO:stanza:Loading: pos\n",
      "2021-11-08 14:45:40 INFO: Loading: lemma\n",
      "INFO:stanza:Loading: lemma\n",
      "2021-11-08 14:45:40 INFO: Loading: depparse\n",
      "INFO:stanza:Loading: depparse\n",
      "2021-11-08 14:45:40 INFO: Loading: sentiment\n",
      "INFO:stanza:Loading: sentiment\n",
      "2021-11-08 14:45:41 INFO: Loading: ner\n",
      "INFO:stanza:Loading: ner\n",
      "2021-11-08 14:45:41 INFO: Done loading processors!\n",
      "INFO:stanza:Done loading processors!\n"
     ]
    }
   ],
   "source": [
    "text_to_4lang = TextTo4lang(config[\"lang\"], config[\"lang\"] + \"_nlp_cache\")\n",
    "\n",
    "nlp = stanza.Pipeline(config[\"lang\"])"
   ]
  },
  {
   "cell_type": "code",
   "execution_count": 20,
   "id": "fe09b134",
   "metadata": {},
   "outputs": [
    {
     "name": "stderr",
     "output_type": "stream",
     "text": [
      "Processing tmp/20211108_144740_208679/input.txt (2 instances) ...\n",
      "1 [ROOT(X(X1))                                       ] 31 ms\n",
      "2 [dummy(dummy)                                      ] 317 μs\n",
      "Done, total time: 44 ms\n",
      "WARNING:root:loaded cache from cache/UD_FL.json with interpretations: ['fl', 'ud']\n",
      "WARNING:root:updated cache in cache/UD_FL.json\n"
     ]
    }
   ],
   "source": [
    "fl_graphs = list(text_to_4lang(data[\"sentence\"], depth=config[\"depth\"], substitute=config[\"substitute\"]))"
   ]
  },
  {
   "cell_type": "code",
   "execution_count": 21,
   "id": "c5e9e8ab",
   "metadata": {},
   "outputs": [
    {
     "data": {
      "text/plain": [
       "NodeDataView({3: {'name': 'X1'}})"
      ]
     },
     "execution_count": 21,
     "metadata": {},
     "output_type": "execute_result"
    }
   ],
   "source": [
    "# Then the fl_graphs will directly contain a networkx graph object\n",
    "fl_graphs[0].nodes(data=True)"
   ]
  },
  {
   "cell_type": "code",
   "execution_count": 22,
   "id": "4864e897",
   "metadata": {
    "scrolled": true
   },
   "outputs": [
    {
     "data": {
      "text/plain": [
       "OutEdgeDataView([])"
      ]
     },
     "execution_count": 22,
     "metadata": {},
     "output_type": "execute_result"
    }
   ],
   "source": [
    "fl_graphs[0].edges(data=True)"
   ]
  },
  {
   "cell_type": "code",
   "execution_count": 23,
   "id": "fa10948c",
   "metadata": {},
   "outputs": [
    {
     "data": {
      "text/plain": [
       "[\n",
       "  {\n",
       "    \"id\": 1,\n",
       "    \"text\": \"1\",\n",
       "    \"lemma\": \"1\",\n",
       "    \"upos\": \"X\",\n",
       "    \"xpos\": \"LS\",\n",
       "    \"head\": 0,\n",
       "    \"deprel\": \"root\",\n",
       "    \"misc\": \"start_char=0|end_char=1\",\n",
       "    \"ner\": \"S-CARDINAL\"\n",
       "  }\n",
       "]"
      ]
     },
     "execution_count": 23,
     "metadata": {},
     "output_type": "execute_result"
    }
   ],
   "source": [
    "g = fl_graphs[0]\n",
    "for n in fl_graphs[1:]:\n",
    "    g = nx.compose(g, n)\n",
    "fl = FourLang(g, 0)\n",
    "if int(config[\"depth\"]):\n",
    "    text_to_4lang.expand(fl, depth=int(config[\"depth\"]), substitute=config[\"substitute\"])\n",
    "sen = nlp(data[\"sentence\"]).sentences[0]\n",
    "sen"
   ]
  },
  {
   "cell_type": "code",
   "execution_count": 24,
   "id": "fb7a8557",
   "metadata": {},
   "outputs": [],
   "source": [
    "def visualize(sentence):\n",
    "    dot = graphviz.Digraph()\n",
    "    dot.node(\"0\", \"ROOT\", shape=\"box\")\n",
    "    for token in sentence.tokens:\n",
    "        for word in token.words:\n",
    "            dot.node(str(word.id), word.text)\n",
    "            dot.edge(str(word.head), str(word.id),\n",
    "                     label=word.deprel)\n",
    "    return dot"
   ]
  },
  {
   "cell_type": "code",
   "execution_count": 25,
   "id": "98001bf7",
   "metadata": {},
   "outputs": [
    {
     "data": {
      "image/svg+xml": [
       "<?xml version=\"1.0\" encoding=\"UTF-8\" standalone=\"no\"?>\n",
       "<!DOCTYPE svg PUBLIC \"-//W3C//DTD SVG 1.1//EN\"\n",
       " \"http://www.w3.org/Graphics/SVG/1.1/DTD/svg11.dtd\">\n",
       "<!-- Generated by graphviz version 2.49.3 (20211104.1129)\n",
       " -->\n",
       "<!-- Pages: 1 -->\n",
       "<svg width=\"62pt\" height=\"131pt\"\n",
       " viewBox=\"0.00 0.00 62.00 131.00\" xmlns=\"http://www.w3.org/2000/svg\" xmlns:xlink=\"http://www.w3.org/1999/xlink\">\n",
       "<g id=\"graph0\" class=\"graph\" transform=\"scale(1 1) rotate(0) translate(4 127)\">\n",
       "<polygon fill=\"white\" stroke=\"transparent\" points=\"-4,4 -4,-127 58,-127 58,4 -4,4\"/>\n",
       "<!-- 0 -->\n",
       "<g id=\"node1\" class=\"node\">\n",
       "<title>0</title>\n",
       "<polygon fill=\"none\" stroke=\"black\" points=\"54,-123 0,-123 0,-87 54,-87 54,-123\"/>\n",
       "<text text-anchor=\"middle\" x=\"27\" y=\"-101.3\" font-family=\"Times,serif\" font-size=\"14.00\">ROOT</text>\n",
       "</g>\n",
       "<!-- 1 -->\n",
       "<g id=\"node2\" class=\"node\">\n",
       "<title>1</title>\n",
       "<ellipse fill=\"none\" stroke=\"black\" cx=\"27\" cy=\"-18\" rx=\"27\" ry=\"18\"/>\n",
       "<text text-anchor=\"middle\" x=\"27\" y=\"-14.3\" font-family=\"Times,serif\" font-size=\"14.00\">1</text>\n",
       "</g>\n",
       "<!-- 0&#45;&gt;1 -->\n",
       "<g id=\"edge1\" class=\"edge\">\n",
       "<title>0&#45;&gt;1</title>\n",
       "<path fill=\"none\" stroke=\"black\" d=\"M27,-86.8C27,-75.16 27,-59.55 27,-46.24\"/>\n",
       "<polygon fill=\"black\" stroke=\"black\" points=\"30.5,-46.18 27,-36.18 23.5,-46.18 30.5,-46.18\"/>\n",
       "<text text-anchor=\"middle\" x=\"38\" y=\"-57.8\" font-family=\"Times,serif\" font-size=\"14.00\">root</text>\n",
       "</g>\n",
       "</g>\n",
       "</svg>\n"
      ],
      "text/plain": [
       "<graphviz.dot.Digraph at 0x7f277f260790>"
      ]
     },
     "execution_count": 25,
     "metadata": {},
     "output_type": "execute_result"
    }
   ],
   "source": [
    "graph = visualize(sen)\n",
    "graph"
   ]
  },
  {
   "cell_type": "code",
   "execution_count": 26,
   "id": "5ea63a03",
   "metadata": {
    "scrolled": true
   },
   "outputs": [
    {
     "data": {
      "image/svg+xml": [
       "<?xml version=\"1.0\" encoding=\"UTF-8\" standalone=\"no\"?>\n",
       "<!DOCTYPE svg PUBLIC \"-//W3C//DTD SVG 1.1//EN\"\n",
       " \"http://www.w3.org/Graphics/SVG/1.1/DTD/svg11.dtd\">\n",
       "<!-- Generated by graphviz version 2.49.3 (20211104.1129)\n",
       " -->\n",
       "<!-- Title: finite_state_machine Pages: 1 -->\n",
       "<svg width=\"8pt\" height=\"8pt\"\n",
       " viewBox=\"0.00 0.00 8.00 8.00\" xmlns=\"http://www.w3.org/2000/svg\" xmlns:xlink=\"http://www.w3.org/1999/xlink\">\n",
       "<g id=\"graph0\" class=\"graph\" transform=\"scale(0.97 0.97) rotate(0) translate(4 4)\">\n",
       "<title>finite_state_machine</title>\n",
       "<polygon fill=\"white\" stroke=\"transparent\" points=\"-4,4 -4,-4 4,-4 4,4 -4,4\"/>\n",
       "</g>\n",
       "</svg>\n"
      ],
      "text/plain": [
       "<graphviz.files.Source at 0x7f277f248eb0>"
      ]
     },
     "execution_count": 26,
     "metadata": {},
     "output_type": "execute_result"
    }
   ],
   "source": [
    "fl_graph = graphviz.Source(fl.to_dot())\n",
    "fl_graph"
   ]
  },
  {
   "cell_type": "code",
   "execution_count": null,
   "id": "f6cdae4e",
   "metadata": {},
   "outputs": [],
   "source": []
  }
 ],
 "metadata": {
  "kernelspec": {
   "display_name": "Python 3 (ipykernel)",
   "language": "python",
   "name": "python3"
  },
  "language_info": {
   "codemirror_mode": {
    "name": "ipython",
    "version": 3
   },
   "file_extension": ".py",
   "mimetype": "text/x-python",
   "name": "python",
   "nbconvert_exporter": "python",
   "pygments_lexer": "ipython3",
   "version": "3.9.7"
  }
 },
 "nbformat": 4,
 "nbformat_minor": 5
}
